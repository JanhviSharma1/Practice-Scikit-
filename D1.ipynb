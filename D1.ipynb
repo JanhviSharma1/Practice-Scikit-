{
  "nbformat": 4,
  "nbformat_minor": 0,
  "metadata": {
    "colab": {
      "provenance": [],
      "authorship_tag": "ABX9TyNhJV/MNds53MJoZNmoUJkO",
      "include_colab_link": true
    },
    "kernelspec": {
      "name": "python3",
      "display_name": "Python 3"
    },
    "language_info": {
      "name": "python"
    }
  },
  "cells": [
    {
      "cell_type": "markdown",
      "metadata": {
        "id": "view-in-github",
        "colab_type": "text"
      },
      "source": [
        "<a href=\"https://colab.research.google.com/github/JanhviSharma1/Practice-Scikit-/blob/main/D1.ipynb\" target=\"_parent\"><img src=\"https://colab.research.google.com/assets/colab-badge.svg\" alt=\"Open In Colab\"/></a>"
      ]
    },
    {
      "cell_type": "code",
      "execution_count": null,
      "metadata": {
        "id": "IYAVgLi5fTOx"
      },
      "outputs": [],
      "source": [
        "import numpy as np"
      ]
    },
    {
      "cell_type": "code",
      "source": [
        "arr=np.array([1, 2, 3, 4, 5, 6])\n",
        "print(arr)\n",
        "print(arr.dtype)\n",
        "print(type(arr))\n",
        "print(arr.ndim)\n",
        "print(arr[1:3])\n",
        "newarr= arr.astype('f')\n",
        "print(newarr)\n",
        "x=arr.copy()\n",
        "y=arr.view()\n",
        "arr[0]=0\n",
        "print(x)\n",
        "print(y)\n",
        "print(x.base)\n",
        "print(y.base)\n",
        "print(newarr.shape)\n",
        "print(arr.reshape(2,3))\n",
        "print(arr.reshape(-1)) #flattening an arr\n",
        "for x in np.nditer(arr):\n",
        "    print(x)\n",
        "for idx, x in np.ndenumerate(arr): #iterating along with index\n",
        "    print(idx, x)"
      ],
      "metadata": {
        "colab": {
          "base_uri": "https://localhost:8080/"
        },
        "id": "iiu-MzrDffdv",
        "outputId": "f7cd8646-7616-4f9d-dee2-6d89b1ff3ac8"
      },
      "execution_count": null,
      "outputs": [
        {
          "output_type": "stream",
          "name": "stdout",
          "text": [
            "[1 2 3 4 5 6]\n",
            "int64\n",
            "<class 'numpy.ndarray'>\n",
            "1\n",
            "[2 3]\n",
            "[1. 2. 3. 4. 5. 6.]\n",
            "[1 2 3 4 5 6]\n",
            "[0 2 3 4 5 6]\n",
            "None\n",
            "[0 2 3 4 5 6]\n",
            "(6,)\n",
            "[[0 2 3]\n",
            " [4 5 6]]\n",
            "[0 2 3 4 5 6]\n",
            "0\n",
            "2\n",
            "3\n",
            "4\n",
            "5\n",
            "6\n",
            "(0,) 0\n",
            "(1,) 2\n",
            "(2,) 3\n",
            "(3,) 4\n",
            "(4,) 5\n",
            "(5,) 6\n"
          ]
        }
      ]
    },
    {
      "cell_type": "markdown",
      "source": [
        "**Concatenation (along with axis)**\n",
        "\n",
        "•\tarray1, array2, ... → Arrays to concatenate (must have the same shape except along the axis of concatenation).\n",
        "\n",
        "•\taxis → The dimension along which concatenation happens:\n",
        "\n",
        "•\taxis=0 → Concatenates along rows (vertically)\n",
        "\n",
        "•\taxis=1 → Concatenates along columns (horizontally)\n",
        "\n",
        "•\taxis=None → Flattens the arrays before concatenation"
      ],
      "metadata": {
        "id": "aDQc6RbNfmvT"
      }
    },
    {
      "cell_type": "code",
      "source": [
        "arr1 = np.array([[1, 2], [3, 4]])\n",
        "arr2 = np.array([[5, 6], [7, 8]])\n",
        "arr = np.concatenate((arr1, arr2), axis=1)\n",
        "print(arr) # [[1 2 5 6] [3 4 7 8]]\n",
        "arr = np.concatenate((arr1, arr2), axis=0)\n",
        "print(arr) # [[1 2] [3 4] [5 6] [7 8]]\n",
        "arr = np.concatenate((arr1, arr2), axis=None)\n",
        "print(arr) # [1 2 3 4 5 6 7 8]"
      ],
      "metadata": {
        "colab": {
          "base_uri": "https://localhost:8080/"
        },
        "id": "r8UzJBwQfp_H",
        "outputId": "1f7e4132-2b49-4a9c-947b-32945de3a8af"
      },
      "execution_count": null,
      "outputs": [
        {
          "output_type": "stream",
          "name": "stdout",
          "text": [
            "[[1 2 5 6]\n",
            " [3 4 7 8]]\n",
            "[[1 2]\n",
            " [3 4]\n",
            " [5 6]\n",
            " [7 8]]\n",
            "[1 2 3 4 5 6 7 8]\n"
          ]
        }
      ]
    },
    {
      "cell_type": "markdown",
      "source": [
        "**Stack**\n",
        "\n",
        "•\tarray1, array2, ... → Arrays to be stacked (must have the same shape).\n",
        "\n",
        "•\taxis → The dimension where a new axis is inserted:\n",
        "\n",
        "axis=0 → New dimension added as the first axis.\n",
        "\n",
        "axis=1 → New dimension added as the second axis.\n",
        "\n",
        "axis=2, axis=-1, etc., can be used for higher dimensions.\n",
        "\n",
        "•\tnp.vstack((a, b)) → Equivalent to np.stack((a, b), axis=0), but only for vertical stacking.\n",
        "\n",
        "•\tnp.hstack((a, b)) → Equivalent to np.concatenate((a, b), axis=1), but only for horizontal stacking.\n",
        "\n",
        "•\tnp.dstack((a, b)) → Equivalent to np.stack((a, b), axis=2) (stacks along height, which is same as depth"
      ],
      "metadata": {
        "id": "ri98jvdKgDN3"
      }
    },
    {
      "cell_type": "code",
      "source": [
        "arr1 = np.array([1, 2, 3])\n",
        "arr2 = np.array([4, 5, 6])\n",
        "arr = np.hstack((arr1, arr2))\n",
        "print(arr) #[1 2 3 4 5 6]\n",
        "arr = np.vstack((arr1, arr2))\n",
        "print(arr)#[[1 2 3][4 5 6]]\n",
        "arr = np.dstack((arr1, arr2))\n",
        "print(arr) #[[[1 4][2 5][3 6]]]"
      ],
      "metadata": {
        "colab": {
          "base_uri": "https://localhost:8080/"
        },
        "id": "F6KrwNVEf56j",
        "outputId": "96ef486b-bf10-4ef6-852c-6cca0da8f60b"
      },
      "execution_count": null,
      "outputs": [
        {
          "output_type": "stream",
          "name": "stdout",
          "text": [
            "[1 2 3 4 5 6]\n",
            "[[1 2 3]\n",
            " [4 5 6]]\n",
            "[[[1 4]\n",
            "  [2 5]\n",
            "  [3 6]]]\n"
          ]
        }
      ]
    }
  ]
}